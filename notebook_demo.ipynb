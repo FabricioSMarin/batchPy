{
 "cells": [
  {
   "cell_type": "code",
   "execution_count": null,
   "metadata": {},
   "outputs": [],
   "source": [
    "# from bluesky_queueserver_api.zmq import REManagerAPI\n",
    "\n",
    "RM = REManagerAPI(zmq_control_addr=\"tcp://isnpc01.xray.aps.anl.gov:60615\", zmq_info_addr=\"tcp://isnpc01.xray.aps.anl.gov:60625\")"
   ]
  },
  {
   "cell_type": "code",
   "execution_count": null,
   "metadata": {},
   "outputs": [
    {
     "ename": "",
     "evalue": "",
     "output_type": "error",
     "traceback": [
      "\u001b[1;31mRunning cells with 'py310 (Python 3.10.12)' requires the ipykernel package.\n",
      "\u001b[1;31mRun the following command to install 'ipykernel' into the Python environment. \n",
      "\u001b[1;31mCommand: 'conda install -n py310 ipykernel --update-deps --force-reinstall'"
     ]
    }
   ],
   "source": [
    "\n",
    "\n",
    "import sys\n",
    "import time\n",
    "from pvaccess import Channel\n",
    "from collections import OrderedDict\n",
    "\n",
    "class ClientMonitor:\n",
    "\n",
    "    def __init__(self, name):\n",
    "        self.name = name\n",
    "        self.value = 0\n",
    "        self.nReceived = 0\n",
    "        self.nMissed = 0\n",
    "        self.percentageMissed = 0\n",
    "        self.startTime = 0\n",
    "        self.receiveRate = 0\n",
    "\n",
    "    def toString(self):\n",
    "        return '%6s: Received: %7d (%6.2f [kHz]); Missed: %7d (%6.2f%%)' % (self.name, self.nReceived, self.receiveRateKHz, self.nMissed, self.percentageMissed)\n",
    "       \n",
    "    def monitor(self, pv):\n",
    "        oldValue = self.value\n",
    "        self.value = pv['c']\n",
    "        self.nReceived += 1\n",
    "        diff = self.value - oldValue\n",
    "        if oldValue > 0:\n",
    "            self.nMissed += diff-1\n",
    "        else:\n",
    "            self.startTime = time.time()\n",
    " \n",
    "        if self.nReceived % 10000 == 0:\n",
    "            currentTime = time.time()\n",
    "            deltaT = currentTime - self.startTime\n",
    "            self.receiveRateKHz = self.nReceived/deltaT/1000.0\n",
    "            self.percentageMissed = (self.nMissed*100.0)/(self.nReceived+self.nMissed)\n",
    "            \n",
    "        if self.nReceived % 100000 == 0:\n",
    "            print(self.toString())\n",
    "\n",
    "if __name__ == '__main__':\n",
    "    runtime = 60\n",
    "    if len(sys.argv) > 1:\n",
    "        runtime = float(sys.argv[1])\n",
    "\n",
    "    channelName = 'XSP3_1Chan:Pva1:Image'\n",
    "    c = Channel(channelName)\n",
    "    #print('CONNECT TO %s:\\n%s\\n' % (channelName, c.get()))\n",
    "    m = ClientMonitor(channelName)\n",
    "\n",
    "    t0 = time.time()\n",
    "    print('STARTING MONITOR for %s at %s\\n' % (channelName, t0))\n",
    "    #c.monitor(m.monitor)\n",
    "    c.monitor(m.monitor, 'field(c)')\n",
    "    time.sleep(runtime)\n",
    "    c.stopMonitor()\n",
    "    t1 = time.time()\n",
    "    deltaT = t1-t0\n",
    "    print('STOP MONITOR at %s\\n' % t1)\n",
    "\n",
    "    print('FINAL STATS:') \n",
    "    print(m.toString())\n",
    "    print('')\n",
    "    print('RUNTIME: %.2f [s]' % (deltaT))\n",
    "    print('\\nDONE')\n"
   ]
  },
  {
   "cell_type": "code",
   "execution_count": 6,
   "metadata": {},
   "outputs": [
    {
     "data": {
      "text/plain": [
       "{'msg': 'RE Manager v0.0.19',\n",
       " 'items_in_queue': 1,\n",
       " 'items_in_history': 2,\n",
       " 'running_item_uid': None,\n",
       " 'manager_state': 'idle',\n",
       " 'queue_stop_pending': False,\n",
       " 'queue_autostart_enabled': False,\n",
       " 'worker_environment_exists': True,\n",
       " 'worker_environment_state': 'idle',\n",
       " 'worker_background_tasks': 0,\n",
       " 're_state': 'idle',\n",
       " 'ip_kernel_state': 'disabled',\n",
       " 'ip_kernel_captured': True,\n",
       " 'pause_pending': False,\n",
       " 'run_list_uid': '77cdd75d-f56c-409c-a866-a5c6b2287c72',\n",
       " 'plan_queue_uid': '943fe7fd-3642-47ab-a773-f5f7e81ec101',\n",
       " 'plan_history_uid': '0abddd52-43e2-42a3-8fba-9decdac65d15',\n",
       " 'devices_existing_uid': '499dd237-09da-4d6c-b1ac-e0fd891b67f5',\n",
       " 'plans_existing_uid': 'dc0fe0ec-7fd7-4276-95e4-973ba4ae5594',\n",
       " 'devices_allowed_uid': '4e4013b1-a1c6-4250-acb6-67a9e2f43406',\n",
       " 'plans_allowed_uid': '72226278-9784-4652-9c1c-365a2a4ea3e1',\n",
       " 'plan_queue_mode': {'loop': False, 'ignore_failures': False},\n",
       " 'task_results_uid': '7a1cad46-7080-4822-966c-1928820d743b',\n",
       " 'lock_info_uid': 'bc1ba136-5bfb-4b01-87eb-473fb3d8aa72',\n",
       " 'lock': {'environment': False, 'queue': False}}"
      ]
     },
     "execution_count": 6,
     "metadata": {},
     "output_type": "execute_result"
    }
   ],
   "source": [
    "status = RM.send_request(method=\"status\")\n",
    "status"
   ]
  }
 ],
 "metadata": {
  "kernelspec": {
   "display_name": "py310",
   "language": "python",
   "name": "python3"
  },
  "language_info": {
   "codemirror_mode": {
    "name": "ipython",
    "version": 3
   },
   "file_extension": ".py",
   "mimetype": "text/x-python",
   "name": "python",
   "nbconvert_exporter": "python",
   "pygments_lexer": "ipython3",
   "version": "3.10.12"
  }
 },
 "nbformat": 4,
 "nbformat_minor": 2
}
